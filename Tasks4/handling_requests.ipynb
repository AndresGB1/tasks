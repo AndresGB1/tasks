{
 "cells": [
  {
   "cell_type": "markdown",
   "metadata": {},
   "source": [
    "**OpenWeatherMap.org** \n",
    "\n",
    "Provides an API for looking up weather forecasts. \n",
    "\n",
    "We'll use **requests** module to connect to their website's API and download the daily current temperature for the circus in Orlando, FL.\n",
    "\n",
    "The url we will use is http://api.openweathermap.org/data/2.5/weather?q=London&units=imperial&appid=67da29cb91129f1a68c1c06c1be92daa\n",
    "The first part connects to their API: http://api.openweathermap.org/data/2.5/weather. \n",
    "\n",
    "Then you can see we set q=London for the location, units=imperial for Fahrenheit, and finally we have an APPID=... which you can sign up for on their website if you have an app that's using their service."
   ]
  },
  {
   "cell_type": "code",
   "execution_count": 4,
   "metadata": {},
   "outputs": [
    {
     "name": "stdout",
     "output_type": "stream",
     "text": [
      "Requirement already satisfied: requests in c:\\users\\agalv\\appdata\\local\\packages\\pythonsoftwarefoundation.python.3.9_qbz5n2kfra8p0\\localcache\\local-packages\\python39\\site-packages (2.28.0)\n",
      "Requirement already satisfied: certifi>=2017.4.17 in c:\\users\\agalv\\appdata\\local\\packages\\pythonsoftwarefoundation.python.3.9_qbz5n2kfra8p0\\localcache\\local-packages\\python39\\site-packages (from requests) (2022.6.15)\n",
      "Requirement already satisfied: urllib3<1.27,>=1.21.1 in c:\\users\\agalv\\appdata\\local\\packages\\pythonsoftwarefoundation.python.3.9_qbz5n2kfra8p0\\localcache\\local-packages\\python39\\site-packages (from requests) (1.26.9)\n",
      "Requirement already satisfied: idna<4,>=2.5 in c:\\users\\agalv\\appdata\\local\\packages\\pythonsoftwarefoundation.python.3.9_qbz5n2kfra8p0\\localcache\\local-packages\\python39\\site-packages (from requests) (3.3)\n",
      "Requirement already satisfied: charset-normalizer~=2.0.0 in c:\\users\\agalv\\appdata\\local\\packages\\pythonsoftwarefoundation.python.3.9_qbz5n2kfra8p0\\localcache\\local-packages\\python39\\site-packages (from requests) (2.0.12)\n"
     ]
    },
    {
     "name": "stderr",
     "output_type": "stream",
     "text": [
      "WARNING: You are using pip version 22.0.3; however, version 22.2.2 is available.\n",
      "You should consider upgrading via the 'C:\\Users\\agalv\\AppData\\Local\\Microsoft\\WindowsApps\\PythonSoftwareFoundation.Python.3.9_qbz5n2kfra8p0\\python.exe -m pip install --upgrade pip' command.\n"
     ]
    }
   ],
   "source": [
    "#Installing requests\n",
    "! pip install requests"
   ]
  },
  {
   "cell_type": "code",
   "execution_count": 14,
   "metadata": {},
   "outputs": [
    {
     "name": "stdout",
     "output_type": "stream",
     "text": [
      "200\n",
      "{'coord': {'lon': -74.0817, 'lat': 4.6097}, 'weather': [{'id': 802, 'main': 'Clouds', 'description': 'scattered clouds', 'icon': '03d'}], 'base': 'stations', 'main': {'temp': 62.11, 'feels_like': 61.65, 'temp_min': 62.11, 'temp_max': 62.11, 'pressure': 1024, 'humidity': 77}, 'visibility': 10000, 'wind': {'speed': 4.61, 'deg': 0}, 'clouds': {'all': 40}, 'dt': 1663280903, 'sys': {'type': 1, 'id': 8582, 'country': 'CO', 'sunrise': 1663238842, 'sunset': 1663282557}, 'timezone': -18000, 'id': 3688689, 'name': 'Bogota', 'cod': 200}\n"
     ]
    }
   ],
   "source": [
    "CITY = 'Bogota'\n",
    "UNITS = 'imperial'\n",
    "URL = f'http://api.openweathermap.org/data/2.5/weather?q={CITY}&units={UNITS}&appid=67da29cb91129f1a68c1c06c1be92daa'\n",
    "import requests\n",
    "\n",
    "# Make a get request to get the latest position of the international space station from the opennotify api.\n",
    "response = requests.get(URL)\n",
    "# Print the status code of the response.\n",
    "print(response.status_code)\n",
    "\n",
    "# Get the response data as a python object. Verify that it's a dictionary.\n",
    "data = response.json()\n",
    "print(data)"
   ]
  },
  {
   "cell_type": "markdown",
   "metadata": {},
   "source": [
    "**Tasks**\n",
    "\n",
    "We're downloading the weather data in JSON format, which is a combination of lists and dictionaries. Let's print out the contents of weather_json and look for how we can access the temp key from the JSON.\n",
    "\n",
    "Take a look at the contents of the response.json file, which models the JSON response we would get from our api query. This dictionary is now stored in the weather_json variable. In the middle of the dictionary, there is a key called 'main'. The value assigned to 'main' is a dictionary containing temperature values. So let's first look up the key 'main' in our dictionary weather_json and assign it to the variable main_weather.\n",
    "\n",
    "Now we can get the current temperature by looking up the key 'temp' within main_weather and assign it to a variable named temp.\n",
    "\n",
    "Now let's print out: **The Circus's current temperature is** and append the temp value to the end of that sentence.\n",
    "Try out your program by pressing the Run button below the terminal (or entering python3 circus.py into the terminal)"
   ]
  },
  {
   "cell_type": "code",
   "execution_count": 23,
   "metadata": {},
   "outputs": [
    {
     "name": "stdout",
     "output_type": "stream",
     "text": [
      "The Circus's current temperature is:  62.11\n"
     ]
    }
   ],
   "source": [
    "#Donload the weather data in JSON format\n",
    "#Print weather_json and access the temp key\n",
    "def get_weather(city, units):\n",
    "    URL = f'http://api.openweathermap.org/data/2.5/weather?q={city}&units={units}&appid=67da29cb91129f1a68c1c06c1be92daa'\n",
    "    response = requests.get(URL)\n",
    "    #in line \n",
    "    return response.json() if response.status_code == 200 else {}\n",
    "\n",
    "weather_json = get_weather('Bogota', 'imperial')\n",
    "\n",
    "print(\"The Circus's current temperature is: \", weather_json.get('main').get('temp'))\n",
    "\n"
   ]
  }
 ],
 "metadata": {
  "kernelspec": {
   "display_name": "Python 3.9.13 64-bit (microsoft store)",
   "language": "python",
   "name": "python3"
  },
  "language_info": {
   "codemirror_mode": {
    "name": "ipython",
    "version": 3
   },
   "file_extension": ".py",
   "mimetype": "text/x-python",
   "name": "python",
   "nbconvert_exporter": "python",
   "pygments_lexer": "ipython3",
   "version": "3.9.13"
  },
  "orig_nbformat": 4,
  "vscode": {
   "interpreter": {
    "hash": "0592ff205ce7aeee1a68d75c0047122481b8ac1cc6651e347b681db56863d684"
   }
  }
 },
 "nbformat": 4,
 "nbformat_minor": 2
}
