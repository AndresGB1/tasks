{
 "cells": [
  {
   "cell_type": "markdown",
   "metadata": {},
   "source": [
    "**Week 2 - Assigment 1**"
   ]
  },
  {
   "cell_type": "code",
   "execution_count": 1,
   "metadata": {},
   "outputs": [],
   "source": [
    "## join array elements\n",
    "\n",
    "grades1 = [10, 20, 40, 67.7]\n",
    "grades2 = [100, 25.0, 40.5, 6.7]\n",
    "expected_result = [10, 20, 40, 67.7, 100, 25.0, 40.5, 6.7]\n",
    "result = []\n",
    "result = grades1 + grades2\n",
    "\n",
    "assert result == expected_result, f\"actual result {result} does not match expected result {expected_result}\""
   ]
  },
  {
   "cell_type": "code",
   "execution_count": 2,
   "metadata": {},
   "outputs": [],
   "source": [
    "## sum array elements\n",
    "\n",
    "grades1 = [10, 20, 40, 67.7]\n",
    "grades2 = [100, 25.0, 40.5, 6.7]\n",
    "expected_result = [110, 45.0, 80.5, 74.4]\n",
    "\n",
    "\n",
    "result = []\n",
    "#List comprehension\n",
    "result = [x + y for x, y in zip(grades1, grades2)]  \n",
    "\n",
    "assert result == expected_result, f\"actual result {result} does not match expected result {expected_result}\""
   ]
  },
  {
   "cell_type": "code",
   "execution_count": 53,
   "metadata": {},
   "outputs": [
    {
     "name": "stdout",
     "output_type": "stream",
     "text": [
      "[-17, 5, -8, -18, 0, -5, -9, -2, 8, 14]  Fahrenheit\n",
      "['-27.222', '-15.000', '-22.222', '-27.778', '-17.778', '-20.556', '-22.778', '-18.889', '-13.333', '-10.000']  Celcius\n"
     ]
    }
   ],
   "source": [
    "import random\n",
    "# With arithmetic manipulation, we can convert current data to the way we want it to be. \n",
    "# Here's a real-world problem I face - I moved down to the United States about 6 years ago from Canada. \n",
    "# In Canada we use celciu for temperatures, and most of the time it has to be converted to the US system which uses farenheit. \n",
    "# Convert a number of farenheit values, say the weather forecase, to celcius\n",
    "# And the formula for conversion is ((°F − 32) × 5/9 = °C)\n",
    "farenheit = [0,-10,-5,-15,0]\n",
    "celcius = []\n",
    "\n",
    "# def convert_to_celcius(farenheit):\n",
    "    #return (farenheit - 32) * 5/9\n",
    "\n",
    "#using lambda function\n",
    "formula = lambda x: (x - 32) * 5/9\n",
    "celcius = list(map(formula, farenheit))\n",
    "\n",
    "expected_celcius = [-17.77777777777778,  -23.333333333333332,-20.555555555555557, -26.11111111111111, -17.77777777777778]\n",
    "assert celcius == expected_celcius, f\"actual result {celcius} does not match expected result {expected_celcius}\"\n",
    "\n",
    "# Now, create an array with random values of typical `Ann Arbor winter` farenheit values with sample_size specified by the user\n",
    "array = []\n",
    "sample_size = int(input(\"Enter sample size: \"))\n",
    "\n",
    "\n",
    "#List comprehension\n",
    "while len(array) < sample_size:\n",
    "    #Random number between 0 and 100\n",
    "    rnd = random.randint(-20, sample_size+5)\n",
    "    if rnd not in array:\n",
    "        array.append(rnd)\n",
    "\n",
    "# Now, create an array with random values of typical `Ann Arbor winter` farenheit values with sample_size specified by the user\n",
    "# then convert its values to celcius\n",
    "# result list must not contain duplicates, and celcius numbers must be floating point with 3 decimal places\n",
    "formula = lambda x: format((x - 32) * 5/9, '.3f')\n",
    "result = list(map(formula, array))\n",
    "\n",
    "print(array,' Fahrenheit')\n",
    "print(result, ' Celcius')"
   ]
  },
  {
   "cell_type": "code",
   "execution_count": 30,
   "metadata": {},
   "outputs": [],
   "source": [
    "## Now, we want to get a boolean array to check celcius degrees that are greater than -20 degrees\n",
    "\n",
    "farenheit = [0,-10,-5,-15,0]\n",
    "celcius_gt_20 = []\n",
    "\n",
    "#pass fareheit array to celcius\n",
    "formula = lambda x: (x - 32) * 5/9\n",
    "celcius = list(map(formula, farenheit))\n",
    "\n",
    "celcius_gt_20= [True if x > -20 else False for x in celcius]\n",
    "\n",
    "#expected_celcius_gt_20 = [False, True, False, True, False]\n",
    "expected_celcius_gt_20 = [True, False, False, False, True]\n",
    "assert celcius_gt_20 == expected_celcius_gt_20, f\"actual result {celcius_gt_20} does not match expected result {expected_celcius_gt_20}\"\n"
   ]
  },
  {
   "cell_type": "code",
   "execution_count": 32,
   "metadata": {},
   "outputs": [
    {
     "name": "stdout",
     "output_type": "stream",
     "text": [
      "[1970, 1971, 1972, 1973, 1974, 1975, 1976, 1977, 1978, 1979, 1980, 1981, 1982, 1983, 1984, 1985, 1986, 1987, 1988, 1989, 1990, 1991, 1992, 1993, 1994, 1995, 1996, 1997, 1998, 1999, 2000, 2001, 2002, 2003, 2004, 2005, 2006, 2007, 2008, 2009, 2010, 2011, 2012, 2013, 2014, 2015, 2016, 2017, 2018, 2019, 2020, 2021, 2022]  years\n"
     ]
    }
   ],
   "source": [
    "## We've held music festivals, every other year since 1970 until now - 2022. How would we list the years?\n",
    "years = list(range(1970, 2023, 1))\n",
    "print(years, ' years')"
   ]
  },
  {
   "cell_type": "code",
   "execution_count": 37,
   "metadata": {},
   "outputs": [
    {
     "name": "stdout",
     "output_type": "stream",
     "text": [
      "[27, 22, 49, 15, 36] -> lotto\n"
     ]
    }
   ],
   "source": [
    "## A fortune-teller robot generate random lotto ticket suggestions for its customers. \n",
    "## How would you help the robot pick 5 random numbers between 1 and 53.\n",
    "import random\n",
    "lotto = []\n",
    "lotto = random.sample(range(1, 54), 5)\n",
    "print(lotto, '-> lotto')"
   ]
  },
  {
   "cell_type": "code",
   "execution_count": 51,
   "metadata": {},
   "outputs": [
    {
     "name": "stdout",
     "output_type": "stream",
     "text": [
      "item 1: $0.50 \n",
      "item 2: $1.50 \n",
      "item 3: $2.50 \n",
      "\n"
     ]
    }
   ],
   "source": [
    "## Print this menu prices in the following format\n",
    "##  item 1: $0.50\n",
    "##  item 2: $1.50\n",
    "##  item 3: $2.50\n",
    "menu_prices  = {\n",
    "    'item 1': 0.50,\n",
    "    'item 2': 1.50,\n",
    "    'item 3': 2.50\n",
    "}\n",
    "\n",
    "#List comprehension\n",
    "x = (f'{key}: ${ format(value,\".2f\") } \\n' for key, value in menu_prices.items())\n",
    "print(''.join(x))\n"
   ]
  },
  {
   "cell_type": "code",
   "execution_count": 64,
   "metadata": {},
   "outputs": [
    {
     "name": "stdout",
     "output_type": "stream",
     "text": [
      "-------------------\n",
      "Welcome to the menu\n",
      "item 1: $0.50\n",
      "item 2: $1.50\n",
      "item 3: $2.50\n",
      "-------------------\n",
      "\n",
      "What would you like to order? (Q to quit)\n",
      "-> Menu item does not exist\n",
      "Anything else? (Q to Quit)\n",
      "-> You have ordered item 1\n",
      "Anything else? (Q to Quit)\n",
      "-> You have ordered item 2\n",
      "Anything else? (Q to Quit)\n",
      "-------------------\n",
      "Order Summary\n",
      "item 1: $0.50\n",
      "item 2: $1.50\n",
      "-------------------\n"
     ]
    }
   ],
   "source": [
    "## Create an console interface for ordering from a menu, \n",
    "## it will let customers order and add as many menu items as they want\n",
    "menu = {\n",
    "    'item 1': 0.50,\n",
    "    'item 2': 1.50,\n",
    "    'item 3': 2.50\n",
    "}\n",
    "\n",
    "orders = []\n",
    "\n",
    "print('-------------------')\n",
    "print('Welcome to the menu')\n",
    "for key, value in menu.items():\n",
    "    print(f'{key}: ${ format(value,\".2f\") }')\n",
    "print('-------------------\\n')\n",
    "\n",
    "\n",
    "# Add the user what they want to order as: what would you like to order? (Q to quit)\n",
    "# If the user enters Q, then print the order summary\n",
    "print('What would you like to order? (Q to quit)')\n",
    "while True:\n",
    "    order = input()\n",
    "    # while the order is not equal for Q for quit, find the order and add it to the list if it exists\n",
    "    if order in menu:\n",
    "        print(f'-> You have ordered {order}')\n",
    "        orders.append(order)\n",
    "    elif order == 'Q':\n",
    "        break\n",
    "    # else let the customer know that the ``    \n",
    "    else:\n",
    "        print('-> Menu item does not exist')\n",
    "    print('Anything else? (Q to Quit)')\n",
    "\n",
    "\n",
    "# Print the order summary\n",
    "print('\\n-------------------')\n",
    "print('Order Summary')\n",
    "for key, value in menu.items():\n",
    "    if key in orders:\n",
    "        print(f'{key}: ${ format(value,\".2f\") }')\n",
    "print('-------------------')\n"
   ]
  },
  {
   "cell_type": "code",
   "execution_count": 66,
   "metadata": {},
   "outputs": [
    {
     "name": "stdout",
     "output_type": "stream",
     "text": [
      "-------------------\n",
      "Welcome to the menu\n",
      "Cheese sticks: $0.50\n",
      "item 2: $1.50\n",
      "item 3: $2.50\n",
      "-------------------\n",
      "\n",
      "We're all out of that!\n",
      "-> Menu item does not exist\n",
      "Anything else? (Q to Quit)\n",
      "-> You have ordered item 2\n",
      "Anything else? (Q to Quit)\n",
      "\n",
      "-------------------\n",
      "Order Summary\n",
      "item 2: $1.50\n",
      "-------------------\n"
     ]
    }
   ],
   "source": [
    "## We have a problem, we run out of `Cheese sticks` in the menu, we'll need to let the customer know\n",
    "## if the order is `Cheese sticks` print `We're all out of that!` and skip the rest of the code\n",
    "menu = {\n",
    "    'Cheese sticks': 0.50,\n",
    "    'item 2': 1.50,\n",
    "    'item 3': 2.50\n",
    "}\n",
    "\n",
    "orders = []\n",
    "\n",
    "print('-------------------')\n",
    "print('Welcome to the menu')\n",
    "for key, value in menu.items():\n",
    "    print(f'{key}: ${ format(value,\".2f\") }')\n",
    "print('-------------------\\n')\n",
    "\n",
    "while (True):\n",
    "    order = input('What would you like to order? (Q to quit)')\n",
    "    if order in menu:\n",
    "        if order == 'Cheese sticks':\n",
    "            print('We\\'re all out of that!')\n",
    "            continue\n",
    "        print(f'-> You have ordered {order}')\n",
    "        orders.append(order)\n",
    "    elif order == 'Q':\n",
    "        break\n",
    "    else:\n",
    "        print('-> Menu item does not exist')\n",
    "    print('Anything else? (Q to Quit)')\n",
    "\n",
    "# Print the order summary\n",
    "print('\\n-------------------')\n",
    "print('Order Summary')\n",
    "for key, value in menu.items():\n",
    "    if key in orders:\n",
    "        print(f'{key}: ${ format(value,\".2f\") }')\n",
    "print('-------------------')"
   ]
  },
  {
   "cell_type": "code",
   "execution_count": 72,
   "metadata": {},
   "outputs": [
    {
     "name": "stdout",
     "output_type": "stream",
     "text": [
      "You win! the computer number was 1 and your guess was 1\n"
     ]
    }
   ],
   "source": [
    "## We want to create a \"guess the number\" game for our fortune-teller robot. \n",
    "## If you guess the random number between 1 and 10, you win a crystal ball!\n",
    "\n",
    "# There is some code that's been written for us \n",
    "# -- getting the random number the user needs to guess, \n",
    "# asking the user to guess a number, and printing 'You win!' if they win. \n",
    "# We need to write the code to compare the users response to num.\n",
    "import random\n",
    "\n",
    "num = random.randint(1, 10)\n",
    "\n",
    "guess = int(input('Guess a number between 1 and 10'))\n",
    "# YOUR CODE HERE\n",
    "\n",
    "if guess == num:\n",
    "    print('You win! the computer number was', num, 'and your guess was', guess)\n",
    "else:\n",
    "    print('You lose! the computer number was', num, 'and your guess was', guess)"
   ]
  },
  {
   "cell_type": "code",
   "execution_count": 79,
   "metadata": {},
   "outputs": [
    {
     "name": "stdout",
     "output_type": "stream",
     "text": [
      "You win! the computer number was 1 and your guess was [1, 5, 3]\n"
     ]
    }
   ],
   "source": [
    "## Now our fortune-teller robot has a guess the number game — if you guess the random number between 1 and 10, you win a crystal ball! \n",
    "## But the game lets the user guess 10 times, so they always win... #fail. \n",
    "## Let's fix the game so they can only guess three times.\n",
    "## After the while loop ends, check if guess is equal to num, then print 'You win!'. Otherwise, print 'You lose! The number was ' and also print num.\n",
    "\n",
    "import random\n",
    "\n",
    "num = random.randint(1, 10)\n",
    "\n",
    "pick = []\n",
    "# YOUR CODE HERE\n",
    "\n",
    "while len(pick) < 3:\n",
    "    guess = int(input('Guess a number between 1 and 10'))\n",
    "    pick.append(guess)\n",
    "\n",
    "if num in pick:\n",
    "    print('You win! the computer number was', num, 'and your guess was', pick)\n",
    "else:\n",
    "    print('You lose! the computer number was', num, 'and your guess was', pick)"
   ]
  },
  {
   "cell_type": "code",
   "execution_count": null,
   "metadata": {},
   "outputs": [],
   "source": []
  }
 ],
 "metadata": {
  "kernelspec": {
   "display_name": "Python 3.9.13 64-bit",
   "language": "python",
   "name": "python3"
  },
  "language_info": {
   "codemirror_mode": {
    "name": "ipython",
    "version": 3
   },
   "file_extension": ".py",
   "mimetype": "text/x-python",
   "name": "python",
   "nbconvert_exporter": "python",
   "pygments_lexer": "ipython3",
   "version": "3.9.13"
  },
  "orig_nbformat": 4,
  "vscode": {
   "interpreter": {
    "hash": "aee8b7b246df8f9039afb4144a1f6fd8d2ca17a180786b69acc140d282b71a49"
   }
  }
 },
 "nbformat": 4,
 "nbformat_minor": 2
}
